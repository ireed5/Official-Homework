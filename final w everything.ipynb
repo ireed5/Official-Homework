{
 "cells": [
  {
   "cell_type": "code",
   "execution_count": 72,
   "id": "4983706b",
   "metadata": {},
   "outputs": [],
   "source": [
    "import string"
   ]
  },
  {
   "cell_type": "code",
   "execution_count": 73,
   "id": "3b69e197",
   "metadata": {},
   "outputs": [],
   "source": [
    "def open_file():\n",
    "    print('Enter file name')\n",
    "    name = input()\n",
    "    while True:\n",
    "        try:\n",
    "            file = open(name, 'r')\n",
    "            #prints the first line of the text file \n",
    "            #print(file.readline())\n",
    "            break\n",
    "        except:\n",
    "            print(\"Error when opening the file, re-enter the file name\")\n",
    "            name = input()\n",
    "    return file"
   ]
  },
  {
   "cell_type": "code",
   "execution_count": 74,
   "id": "b55b49c1",
   "metadata": {},
   "outputs": [],
   "source": [
    "def read_data(name):\n",
    "    # list of all the lines\n",
    "    with name as file:\n",
    "        lines = file.readlines()\n",
    "    # lower case\n",
    "    # remove line enders\n",
    "    for i in range(len(lines)):\n",
    "        lines[i] = lines[i].lower()\n",
    "        lines[i] = lines[i].replace('\\n', ',')\n",
    "    # remove punctuation\n",
    "    for i in range(len(lines)):\n",
    "        for element in lines[i]:\n",
    "            if element in string.punctuation:\n",
    "                lines[i] = lines[i].replace(element, \"\")\n",
    " \n",
    "    #remove nonalphabetic\n",
    "    \n",
    "    for i in range(len(lines)):\n",
    "        if lines[i].isalpha(): \n",
    "            pass\n",
    "        else:\n",
    "            lines[i].replace(lines[i], '')\n",
    "            \n",
    "    # split each line into a list of words\n",
    "    for i in range(len(lines)):\n",
    "        lines[i] = list(lines[i].split()) \n",
    "    \n",
    "    # replace hyphen\n",
    "    for i in range(len(lines)):\n",
    "        for j in lines[i]:\n",
    "            if j == '-':\n",
    "                lines[i].remove(j)\n",
    "    for i in range(len(lines)):\n",
    "        for j in lines[i]:\n",
    "            if j == \"''\":\n",
    "                lines[i].remove(j)\n",
    "                \n",
    "    #searches for any empty lists in lines\n",
    "    for i in lines: \n",
    "        if not i:\n",
    "            lines.remove(i)\n",
    "    # remove words with less than two letters\n",
    "    for i in range(len(lines)):\n",
    "        for j in lines[i]:\n",
    "            if len(j) < 3:\n",
    "                lines[i].remove(j)\n",
    "    print('Processed lines')\n",
    "    \n",
    "    data_dict = {}\n",
    "    for i in range(len(lines)):\n",
    "        for j in lines[i]:\n",
    "            if j in data_dict.keys():\n",
    "                data_dict[j].append((i+1))\n",
    "            else:\n",
    "                data_dict[j] = list([(i+1)])\n",
    "    for j in data_dict.keys():\n",
    "        data_dict[j] = list(set(data_dict[j]))\n",
    "    \n",
    "    return data_dict"
   ]
  },
  {
   "cell_type": "code",
   "execution_count": 75,
   "id": "df69577a",
   "metadata": {},
   "outputs": [],
   "source": [
    "def find_cooccurance(D, inp_str):\n",
    "    words = list(inp_str.split())\n",
    "    print(\"Words being tested for\")\n",
    "    print(words)\n",
    "    lines = []\n",
    "    lines = D[words[0]]\n",
    "    for i in range(len(words)):\n",
    "        if i == 0:\n",
    "            continue\n",
    "        lines = set(lines).intersection(D[words[i]])\n",
    "    return lines"
   ]
  },
  {
   "cell_type": "code",
   "execution_count": 76,
   "id": "3a545bd1",
   "metadata": {},
   "outputs": [
    {
     "name": "stdout",
     "output_type": "stream",
     "text": [
      "Enter file name\n",
      "pimpernel.txt\n",
      "File opened\n",
      "Processed lines\n",
      "Enter list of words, seperated by spaces: frenchies\n",
      "Words being tested for\n",
      "['frenchies']\n",
      "Lines with all words\n",
      "[3]\n"
     ]
    }
   ],
   "source": [
    "def main():\n",
    "    name = open_file()\n",
    "    print('File opened')\n",
    "    data_dict = read_data(name)\n",
    "    lines = find_cooccurance(data_dict, input('Enter list of words, seperated by spaces: '))\n",
    "    print('Lines with all words')\n",
    "    print(lines)\n",
    "if __name__ == \"__main__\":\n",
    "    main()"
   ]
  },
  {
   "cell_type": "code",
   "execution_count": null,
   "id": "ab9257bd",
   "metadata": {},
   "outputs": [],
   "source": []
  }
 ],
 "metadata": {
  "kernelspec": {
   "display_name": "Python 3 (ipykernel)",
   "language": "python",
   "name": "python3"
  },
  "language_info": {
   "codemirror_mode": {
    "name": "ipython",
    "version": 3
   },
   "file_extension": ".py",
   "mimetype": "text/x-python",
   "name": "python",
   "nbconvert_exporter": "python",
   "pygments_lexer": "ipython3",
   "version": "3.9.7"
  }
 },
 "nbformat": 4,
 "nbformat_minor": 5
}
