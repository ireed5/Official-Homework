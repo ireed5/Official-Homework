{
 "cells": [
  {
   "cell_type": "markdown",
   "id": "87499736",
   "metadata": {},
   "source": [
    "Question 1"
   ]
  },
  {
   "cell_type": "code",
   "execution_count": 1,
   "id": "7d707af5",
   "metadata": {},
   "outputs": [],
   "source": [
    "marks = {'Andy': 88, 'Amy': 66, 'James': 90, 'Jules': 55, 'Arthur': 77}"
   ]
  },
  {
   "cell_type": "code",
   "execution_count": 2,
   "id": "a2c868f2",
   "metadata": {},
   "outputs": [
    {
     "name": "stdout",
     "output_type": "stream",
     "text": [
      "88\n",
      "You cannot find this student's name\n"
     ]
    }
   ],
   "source": [
    "def f(name):\n",
    "    nameCheck = ''\n",
    "    for i in marks:\n",
    "        if (i == name):\n",
    "            nameCheck= marks[i]\n",
    "            print(nameCheck)\n",
    "    if(nameCheck == ''):\n",
    "        print(\"You cannot find this student's name\")\n",
    "    \n",
    "f('Andy')\n",
    "f('Talia')    "
   ]
  },
  {
   "cell_type": "code",
   "execution_count": 3,
   "id": "e080e4ee",
   "metadata": {},
   "outputs": [
    {
     "data": {
      "text/plain": [
       "75.2"
      ]
     },
     "execution_count": 3,
     "metadata": {},
     "output_type": "execute_result"
    }
   ],
   "source": [
    "def average(grades):\n",
    "    sumTotal = 0\n",
    "    count = 0\n",
    "    for i in grades.values():\n",
    "        count+= 1\n",
    "        sumTotal += i\n",
    "    avg = sumTotal/count\n",
    "    return(avg)\n",
    "average(marks)"
   ]
  },
  {
   "cell_type": "markdown",
   "id": "0cc79bee",
   "metadata": {},
   "source": [
    "Question 2"
   ]
  },
  {
   "cell_type": "code",
   "execution_count": 6,
   "id": "a8d3faa3",
   "metadata": {},
   "outputs": [
    {
     "name": "stdout",
     "output_type": "stream",
     "text": [
      "1 1\n",
      "2 4\n",
      "3 9\n",
      "4 16\n",
      "5 25\n",
      "6 36\n",
      "7 49\n"
     ]
    }
   ],
   "source": [
    "i = 1\n",
    "while i < 8:\n",
    "    print (i, i**2)\n",
    "    if i == 8:\n",
    "        print(\"greater than 8\")\n",
    "    i += 1"
   ]
  },
  {
   "cell_type": "markdown",
   "id": "706d90bc",
   "metadata": {},
   "source": [
    "Question 3"
   ]
  },
  {
   "cell_type": "code",
   "execution_count": 4,
   "id": "c40ded10",
   "metadata": {},
   "outputs": [
    {
     "name": "stdout",
     "output_type": "stream",
     "text": [
      "15\n"
     ]
    }
   ],
   "source": [
    "def sumfunction(num):\n",
    "    n = 1\n",
    "    sum = 0\n",
    "    while n <= num:\n",
    "        sum = sum + n\n",
    "        n = n + 1\n",
    "    print(sum)\n",
    "sumfunction(5)"
   ]
  },
  {
   "cell_type": "markdown",
   "id": "ae764df3",
   "metadata": {},
   "source": [
    "Question 4"
   ]
  },
  {
   "cell_type": "code",
   "execution_count": 5,
   "id": "5625cf9d",
   "metadata": {},
   "outputs": [
    {
     "name": "stdout",
     "output_type": "stream",
     "text": [
      "0 1\n",
      "1 2\n",
      "2 4\n",
      "3 7\n",
      "4 11\n"
     ]
    }
   ],
   "source": [
    "def sumfor(num):\n",
    "    sum = 1\n",
    "    for n in range(num):\n",
    "        sum += n\n",
    "        print(n, sum)\n",
    "sumfor(5)"
   ]
  },
  {
   "cell_type": "markdown",
   "id": "63390827",
   "metadata": {},
   "source": [
    "Question 5"
   ]
  },
  {
   "cell_type": "code",
   "execution_count": 8,
   "id": "1cd9a840",
   "metadata": {},
   "outputs": [],
   "source": [
    "import statistics as stats"
   ]
  },
  {
   "cell_type": "code",
   "execution_count": 10,
   "id": "54db4fd6",
   "metadata": {},
   "outputs": [
    {
     "name": "stdout",
     "output_type": "stream",
     "text": [
      "50\n",
      "4950\n",
      "28.577380332470412\n"
     ]
    }
   ],
   "source": [
    "pool = list(range(1,100))\n",
    "\n",
    "def stuff(ls):\n",
    "    meanP = stats.mean(pool)\n",
    "    sumP = sum(pool)\n",
    "    devP = stats.pstdev(pool)\n",
    "    \n",
    "stuff(pool) \n",
    "print(stats.mean(pool))\n",
    "print(sum(pool))\n",
    "print(stats.pstdev(pool))"
   ]
  },
  {
   "cell_type": "markdown",
   "id": "3083a457",
   "metadata": {},
   "source": [
    "Question 6"
   ]
  },
  {
   "cell_type": "code",
   "execution_count": 11,
   "id": "44aa989f",
   "metadata": {},
   "outputs": [],
   "source": [
    "def minimal(value1, value2, value3, value4):\n",
    "    min_value = value1\n",
    "    if value2 < min_value:\n",
    "        min_value = value2\n",
    "    if value3 < min_value:\n",
    "        min_value = value3\n",
    "    if value4 < min_value:\n",
    "        min_value = value4\n",
    "    return min_value"
   ]
  },
  {
   "cell_type": "code",
   "execution_count": 12,
   "id": "823b97d6",
   "metadata": {},
   "outputs": [
    {
     "name": "stdout",
     "output_type": "stream",
     "text": [
      "1\n"
     ]
    }
   ],
   "source": [
    "def yourself(a, b, c, d):\n",
    "    print(minimal(a,b,c,d))\n",
    "yourself(1,2,3,4)"
   ]
  },
  {
   "cell_type": "code",
   "execution_count": null,
   "id": "ffba7c30",
   "metadata": {},
   "outputs": [],
   "source": []
  }
 ],
 "metadata": {
  "kernelspec": {
   "display_name": "Python 3 (ipykernel)",
   "language": "python",
   "name": "python3"
  },
  "language_info": {
   "codemirror_mode": {
    "name": "ipython",
    "version": 3
   },
   "file_extension": ".py",
   "mimetype": "text/x-python",
   "name": "python",
   "nbconvert_exporter": "python",
   "pygments_lexer": "ipython3",
   "version": "3.9.7"
  }
 },
 "nbformat": 4,
 "nbformat_minor": 5
}
