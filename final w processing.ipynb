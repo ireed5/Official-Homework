{
 "cells": [
  {
   "cell_type": "code",
   "execution_count": 29,
   "id": "4983706b",
   "metadata": {},
   "outputs": [],
   "source": [
    "import string"
   ]
  },
  {
   "cell_type": "code",
   "execution_count": 30,
   "id": "3b69e197",
   "metadata": {},
   "outputs": [],
   "source": [
    "def open_file():\n",
    "    print('Enter file name')\n",
    "    name = input()\n",
    "    while True:\n",
    "        try:\n",
    "            file = open(name, 'r')\n",
    "            print(file.readline())\n",
    "            break\n",
    "        except:\n",
    "            print(\"Error when opening the file, re-enter the file name\")\n",
    "            name = input()\n",
    "    return file"
   ]
  },
  {
   "cell_type": "code",
   "execution_count": 31,
   "id": "b55b49c1",
   "metadata": {},
   "outputs": [],
   "source": [
    "def read_data(name):\n",
    "    # list of all the lines\n",
    "    with name as file:\n",
    "        lines = file.readlines()\n",
    "    # lower case\n",
    "    # remove line enders\n",
    "    for i in range(len(lines)):\n",
    "        lines[i] = lines[i].lower()\n",
    "        lines[i] = lines[i].replace('\\n', ',')\n",
    "    \n",
    "    # remove punctuation\n",
    "    for i in range(len(lines)):\n",
    "        for element in lines[i]:\n",
    "            if element in string.punctuation:\n",
    "                lines[i] = lines[i].replace(element, \"\")\n",
    "    print(lines)\n",
    "     # remove hyphen\n",
    "    for i in range(len(lines)):\n",
    "        return lines[i].replace('-',' ')\n",
    "    #remove nonalphabetic\n",
    "    for i in range(len(lines)):\n",
    "        return lines[i].isaplha('')"
   ]
  },
  {
   "cell_type": "code",
   "execution_count": 32,
   "id": "3a545bd1",
   "metadata": {},
   "outputs": [
    {
     "name": "stdout",
     "output_type": "stream",
     "text": [
      "Enter file name\n",
      "gettysburg.txt\n",
      "Four score and seven years ago our fathers brought forth on this\n",
      "\n",
      "['continent a new nation conceived in liberty and dedicated to the', 'proposition that all men are created equal ', '', 'now we are engaged in a great civil war testing whether that', 'nation or any nation so conceived and so dedicated can long', 'endure we are met on a great battlefield of that war we have', 'come to dedicate a portion of that field as a final resting place', 'for those who here gave their lives that that nation might', 'live it is altogether fitting and proper that we should do this ', '', 'but in a larger sense we can not dedicate  we can not', 'consecrate  we can not hallow   this ground the brave men living', 'and dead who struggled here have consecrated it far above our', 'poor power to add or detract the world will little note nor long', 'remember what we say here but it can never forget what they did', 'here it is for us the living rather to be dedicated here to the', 'unfinished work which they who fought here have thus far so nobly', 'advanced it is rather for us to be here dedicated to the great', 'task remaining before us  that from these honored dead we take', 'increased devotion to that cause for which they gave the last full', 'measure of devotion  that we here highly resolve that these dead', 'shall not have died in vain  that this nation under god shall', 'have a new birth of freedom  and that government of the people', 'by the people for the people shall not perish from the earth ']\n"
     ]
    }
   ],
   "source": [
    "def main():\n",
    "    name = open_file()\n",
    "    read_data(name)\n",
    "\n",
    "if __name__ == \"__main__\":\n",
    "    main()"
   ]
  },
  {
   "cell_type": "code",
   "execution_count": null,
   "id": "4aca9c1d",
   "metadata": {},
   "outputs": [],
   "source": []
  },
  {
   "cell_type": "code",
   "execution_count": null,
   "id": "e6a8dcb4",
   "metadata": {},
   "outputs": [],
   "source": []
  }
 ],
 "metadata": {
  "kernelspec": {
   "display_name": "Python 3 (ipykernel)",
   "language": "python",
   "name": "python3"
  },
  "language_info": {
   "codemirror_mode": {
    "name": "ipython",
    "version": 3
   },
   "file_extension": ".py",
   "mimetype": "text/x-python",
   "name": "python",
   "nbconvert_exporter": "python",
   "pygments_lexer": "ipython3",
   "version": "3.9.7"
  }
 },
 "nbformat": 4,
 "nbformat_minor": 5
}
