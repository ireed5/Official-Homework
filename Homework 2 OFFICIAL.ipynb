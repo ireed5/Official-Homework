{
 "cells": [
  {
   "cell_type": "markdown",
   "id": "cafdcac4",
   "metadata": {},
   "source": [
    "Question 1"
   ]
  },
  {
   "cell_type": "code",
   "execution_count": 11,
   "id": "3ce38606",
   "metadata": {},
   "outputs": [
    {
     "name": "stdout",
     "output_type": "stream",
     "text": [
      "0\n",
      "1\n",
      "2\n",
      "3\n",
      "4\n"
     ]
    }
   ],
   "source": [
    "n = 0 \n",
    "while n < 10:\n",
    "    print(n)\n",
    "    n = n + 1\n",
    "    if n == 5:\n",
    "        break"
   ]
  },
  {
   "cell_type": "markdown",
   "id": "ae83eb45",
   "metadata": {},
   "source": [
    "Question 2"
   ]
  },
  {
   "cell_type": "code",
   "execution_count": 12,
   "id": "b910f898",
   "metadata": {},
   "outputs": [
    {
     "name": "stdout",
     "output_type": "stream",
     "text": [
      "0\n",
      "1\n",
      "2\n",
      "3\n",
      "4\n",
      "5 is not less than 5\n"
     ]
    }
   ],
   "source": [
    "n = 0\n",
    "while n < 5:\n",
    "    print (n)\n",
    "    n = n + 1\n",
    "else:\n",
    "    print (\"5 is not less than 5\")"
   ]
  },
  {
   "cell_type": "markdown",
   "id": "671294cb",
   "metadata": {},
   "source": [
    "Question 3"
   ]
  },
  {
   "cell_type": "code",
   "execution_count": 13,
   "id": "e627502a",
   "metadata": {},
   "outputs": [
    {
     "name": "stdout",
     "output_type": "stream",
     "text": [
      "['watermelon', 'honeydew', 'apple']\n"
     ]
    }
   ],
   "source": [
    "favoritefruit = [\"watermelon\", \"honeydew\", \"apple\"]\n",
    "print(favoritefruit)"
   ]
  },
  {
   "cell_type": "code",
   "execution_count": 14,
   "id": "f8bd4898",
   "metadata": {},
   "outputs": [
    {
     "name": "stdout",
     "output_type": "stream",
     "text": [
      "I like watermelon\n",
      "I like honeydew\n",
      "apple is really a fruit?\n"
     ]
    }
   ],
   "source": [
    "for fruit in favoritefruit:\n",
    "    if fruit == \"apple\":\n",
    "        break\n",
    "    print(\"I like\", fruit)\n",
    "print(\"apple is really a fruit?\")"
   ]
  },
  {
   "cell_type": "markdown",
   "id": "ec913b90",
   "metadata": {},
   "source": [
    "Question 4"
   ]
  },
  {
   "cell_type": "code",
   "execution_count": 15,
   "id": "29a71d80",
   "metadata": {},
   "outputs": [
    {
     "name": "stdout",
     "output_type": "stream",
     "text": [
      "The sum is 465\n"
     ]
    }
   ],
   "source": [
    "n = 30\n",
    "sum = 0\n",
    "i = 1\n",
    "\n",
    "while i <= n:\n",
    "    sum = sum + i\n",
    "    i = i+1\n",
    "    \n",
    "print(\"The sum is\", sum)"
   ]
  },
  {
   "cell_type": "markdown",
   "id": "61f41162",
   "metadata": {},
   "source": [
    "Question 5"
   ]
  },
  {
   "cell_type": "code",
   "execution_count": 16,
   "id": "18e5cb61",
   "metadata": {},
   "outputs": [],
   "source": [
    "cstudent = 71"
   ]
  },
  {
   "cell_type": "code",
   "execution_count": 17,
   "id": "3cf60bb5",
   "metadata": {},
   "outputs": [
    {
     "name": "stdout",
     "output_type": "stream",
     "text": [
      "C\n"
     ]
    }
   ],
   "source": [
    "if cstudent >= 90:\n",
    "    print('A')\n",
    "elif cstudent >= 80:\n",
    "    print('B')\n",
    "elif cstudent >= 70:\n",
    "    print('C')\n",
    "elif cstudent >= 60:\n",
    "    print('D')\n",
    "else:\n",
    "    print('F')"
   ]
  },
  {
   "cell_type": "markdown",
   "id": "915fa321",
   "metadata": {},
   "source": [
    "Question 6"
   ]
  },
  {
   "cell_type": "code",
   "execution_count": 1,
   "id": "9b323f15",
   "metadata": {},
   "outputs": [],
   "source": [
    "grades = {\"Andy\": 88, \"Amy\": 66, \"James\": 90, \"Jules\": 55, \"Arthur\": 77}"
   ]
  },
  {
   "cell_type": "code",
   "execution_count": 2,
   "id": "7247edf0",
   "metadata": {},
   "outputs": [
    {
     "name": "stdout",
     "output_type": "stream",
     "text": [
      "Student Andy got 88\n",
      "Student Amy got 66\n",
      "Student James got 90\n",
      "Student Jules got 55\n",
      "Student Arthur got 77\n"
     ]
    }
   ],
   "source": [
    "for student in grades:\n",
    "    print (\"Student\", str(student), \"got\", str(grades[student]))"
   ]
  },
  {
   "cell_type": "code",
   "execution_count": 3,
   "id": "b3328530",
   "metadata": {},
   "outputs": [
    {
     "name": "stdout",
     "output_type": "stream",
     "text": [
      "75.2\n"
     ]
    }
   ],
   "source": [
    "meangrade = sum(grades.values()) / len(grades.values())\n",
    "print(meangrade)"
   ]
  },
  {
   "cell_type": "code",
   "execution_count": 4,
   "id": "4e39bce5",
   "metadata": {},
   "outputs": [],
   "source": [
    "all_values = grades.values()\n",
    "max_value = max(all_values)"
   ]
  },
  {
   "cell_type": "code",
   "execution_count": 5,
   "id": "fb8e247d",
   "metadata": {},
   "outputs": [
    {
     "name": "stdout",
     "output_type": "stream",
     "text": [
      "90\n"
     ]
    }
   ],
   "source": [
    "print(max_value)"
   ]
  },
  {
   "cell_type": "code",
   "execution_count": 6,
   "id": "e580102e",
   "metadata": {},
   "outputs": [],
   "source": [
    "all_values = grades.values()\n",
    "min_value = min(all_values)"
   ]
  },
  {
   "cell_type": "code",
   "execution_count": 7,
   "id": "423a9101",
   "metadata": {},
   "outputs": [
    {
     "name": "stdout",
     "output_type": "stream",
     "text": [
      "55\n"
     ]
    }
   ],
   "source": [
    "print(min_value)"
   ]
  },
  {
   "cell_type": "code",
   "execution_count": 9,
   "id": "0dfa68ca",
   "metadata": {},
   "outputs": [
    {
     "name": "stdout",
     "output_type": "stream",
     "text": [
      "Andy\n",
      "Amy\n"
     ]
    }
   ],
   "source": [
    "key = grades.keys()\n",
    "for key in grades:\n",
    "    if 'J' in key:\n",
    "        break\n",
    "    print(key)"
   ]
  },
  {
   "cell_type": "code",
   "execution_count": 10,
   "id": "dde6b42c",
   "metadata": {},
   "outputs": [
    {
     "name": "stdout",
     "output_type": "stream",
     "text": [
      "Andy\n",
      "Amy\n",
      "Arthur\n"
     ]
    }
   ],
   "source": [
    "key = grades.keys()\n",
    "for key in grades:\n",
    "    if 'J' in key:\n",
    "        continue\n",
    "    print(key)"
   ]
  }
 ],
 "metadata": {
  "kernelspec": {
   "display_name": "Python 3 (ipykernel)",
   "language": "python",
   "name": "python3"
  },
  "language_info": {
   "codemirror_mode": {
    "name": "ipython",
    "version": 3
   },
   "file_extension": ".py",
   "mimetype": "text/x-python",
   "name": "python",
   "nbconvert_exporter": "python",
   "pygments_lexer": "ipython3",
   "version": "3.9.7"
  }
 },
 "nbformat": 4,
 "nbformat_minor": 5
}
